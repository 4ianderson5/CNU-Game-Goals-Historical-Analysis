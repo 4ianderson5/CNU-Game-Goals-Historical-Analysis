{
 "cells": [
  {
   "metadata": {},
   "cell_type": "markdown",
   "source": [
    "# CNU Basketball — Phase 2 Analysis\n",
    "This notebook expands the project with:\n",
    "- EDA (win rates, goal lifts)\n",
    "- Statistical tests (chi-square / Fisher, OR/RR)\n",
    "- Interpretable logistic regression (statsmodels)\n",
    "- Predictive baseline (sklearn) with season-aware validation\n",
    "- Threshold tuning & diagnostics\n",
    "- Artifacts saved for dashboard/report"
   ],
   "id": "a7ed5a159e137146"
  },
  {
   "metadata": {
    "ExecuteTime": {
     "end_time": "2025-08-20T01:25:37.736857Z",
     "start_time": "2025-08-20T01:25:22.619927Z"
    }
   },
   "cell_type": "code",
   "source": [
    "import os, math\n",
    "from pathlib import Path\n",
    "\n",
    "import numpy as np\n",
    "import pandas as pd\n",
    "from scipy import stats\n",
    "import statsmodels.api as sm\n",
    "import statsmodels.formula.api as smf\n",
    "from statsmodels.stats.contingency_tables import Table2x2\n",
    "from statsmodels.stats.proportion import proportion_confint\n",
    "\n",
    "from sklearn.model_selection import GroupKFold, cross_val_score\n",
    "from sklearn.linear_model import LogisticRegression\n",
    "from sklearn.metrics import (\n",
    "    accuracy_score, precision_score, recall_score, f1_score,\n",
    "    roc_auc_score, roc_curve, precision_recall_curve,\n",
    "    confusion_matrix\n",
    ")\n",
    "\n",
    "import plotly.express as px\n",
    "import plotly.graph_objects as go\n",
    "\n",
    "# Paths\n",
    "PROJ = Path.cwd().parents[0] if Path.cwd().name == \"notebooks\" else Path.cwd()\n",
    "DATA = PROJ / \"data\"\n",
    "REPORTS = PROJ / \"reports\"\n",
    "FIGS = REPORTS / \"figures\"\n",
    "FIGS.mkdir(parents=True, exist_ok=True)\n",
    "\n",
    "print(\"Project root:\", PROJ)"
   ],
   "id": "fbb55eff176e67bd",
   "outputs": [
    {
     "name": "stdout",
     "output_type": "stream",
     "text": [
      "Project root: C:\\Users\\ianwi\\OneDrive\\Desktop\\Data Projects\\CNU-Game-Goals-Historical-Analysis\n"
     ]
    }
   ],
   "execution_count": 1
  },
  {
   "metadata": {
    "ExecuteTime": {
     "end_time": "2025-08-20T01:25:37.838365Z",
     "start_time": "2025-08-20T01:25:37.777810Z"
    }
   },
   "cell_type": "code",
   "source": [
    "df = pd.read_csv(DATA / \"cnu_games_with_goals.csv\")\n",
    "\n",
    "# Types\n",
    "df[\"date\"] = pd.to_datetime(df[\"date\"], errors=\"coerce\")\n",
    "for col in [\"win\",\"goal_reb\",\"goal_to\",\"goal_orb\",\"goal_def30\",\"goals_hit\"]:\n",
    "    df[col] = pd.to_numeric(df[col], errors=\"coerce\")\n",
    "\n",
    "print(df.shape)\n",
    "df.head(3)"
   ],
   "id": "80de326a522b25b9",
   "outputs": [
    {
     "name": "stdout",
     "output_type": "stream",
     "text": [
      "(415, 30)\n"
     ]
    },
    {
     "data": {
      "text/plain": [
       "      season       date  home                   opponent  \\\n",
       "0  2010-2011 2011-02-25     0                     Ferrum   \n",
       "1  2010-2011 2011-02-22     1                 Shenandoah   \n",
       "2  2010-2011 2011-02-19     1  Greensboro College 11-14,   \n",
       "\n",
       "                       location_text  \\\n",
       "0                        Ferrum, Va.   \n",
       "1  Freeman Center; Newport News, Va.   \n",
       "2  Freeman Center; Newport News, Va.   \n",
       "\n",
       "                                     result_text  cnu_pts  opp_pts  cnu_fgm  \\\n",
       "0              Ferrum 87, Christopher Newport 81       81       87       29   \n",
       "1          Christopher Newport 84, Shenandoah 66       84       66       30   \n",
       "2  Christopher Newport 55, Greensboro College 52       55       52       16   \n",
       "\n",
       "   cnu_fga  ...  cnu_first_half  opp_first_half  ot  \\\n",
       "0       63  ...              36              42   0   \n",
       "1       65  ...              31              33   0   \n",
       "2       51  ...              17              20   0   \n",
       "\n",
       "                                             box_url  win  goal_reb  goal_to  \\\n",
       "0  https://static.cnusports.com/custompages/mbbal...    0         1        0   \n",
       "1  https://static.cnusports.com/custompages/mbbal...    1         1        0   \n",
       "2  https://static.cnusports.com/custompages/mbbal...    1         1        1   \n",
       "\n",
       "   goal_orb  goal_def30  goals_hit  \n",
       "0         1           0          2  \n",
       "1         1           0          2  \n",
       "2         0           1          3  \n",
       "\n",
       "[3 rows x 30 columns]"
      ],
      "text/html": [
       "<div>\n",
       "<style scoped>\n",
       "    .dataframe tbody tr th:only-of-type {\n",
       "        vertical-align: middle;\n",
       "    }\n",
       "\n",
       "    .dataframe tbody tr th {\n",
       "        vertical-align: top;\n",
       "    }\n",
       "\n",
       "    .dataframe thead th {\n",
       "        text-align: right;\n",
       "    }\n",
       "</style>\n",
       "<table border=\"1\" class=\"dataframe\">\n",
       "  <thead>\n",
       "    <tr style=\"text-align: right;\">\n",
       "      <th></th>\n",
       "      <th>season</th>\n",
       "      <th>date</th>\n",
       "      <th>home</th>\n",
       "      <th>opponent</th>\n",
       "      <th>location_text</th>\n",
       "      <th>result_text</th>\n",
       "      <th>cnu_pts</th>\n",
       "      <th>opp_pts</th>\n",
       "      <th>cnu_fgm</th>\n",
       "      <th>cnu_fga</th>\n",
       "      <th>...</th>\n",
       "      <th>cnu_first_half</th>\n",
       "      <th>opp_first_half</th>\n",
       "      <th>ot</th>\n",
       "      <th>box_url</th>\n",
       "      <th>win</th>\n",
       "      <th>goal_reb</th>\n",
       "      <th>goal_to</th>\n",
       "      <th>goal_orb</th>\n",
       "      <th>goal_def30</th>\n",
       "      <th>goals_hit</th>\n",
       "    </tr>\n",
       "  </thead>\n",
       "  <tbody>\n",
       "    <tr>\n",
       "      <th>0</th>\n",
       "      <td>2010-2011</td>\n",
       "      <td>2011-02-25</td>\n",
       "      <td>0</td>\n",
       "      <td>Ferrum</td>\n",
       "      <td>Ferrum, Va.</td>\n",
       "      <td>Ferrum 87, Christopher Newport 81</td>\n",
       "      <td>81</td>\n",
       "      <td>87</td>\n",
       "      <td>29</td>\n",
       "      <td>63</td>\n",
       "      <td>...</td>\n",
       "      <td>36</td>\n",
       "      <td>42</td>\n",
       "      <td>0</td>\n",
       "      <td>https://static.cnusports.com/custompages/mbbal...</td>\n",
       "      <td>0</td>\n",
       "      <td>1</td>\n",
       "      <td>0</td>\n",
       "      <td>1</td>\n",
       "      <td>0</td>\n",
       "      <td>2</td>\n",
       "    </tr>\n",
       "    <tr>\n",
       "      <th>1</th>\n",
       "      <td>2010-2011</td>\n",
       "      <td>2011-02-22</td>\n",
       "      <td>1</td>\n",
       "      <td>Shenandoah</td>\n",
       "      <td>Freeman Center; Newport News, Va.</td>\n",
       "      <td>Christopher Newport 84, Shenandoah 66</td>\n",
       "      <td>84</td>\n",
       "      <td>66</td>\n",
       "      <td>30</td>\n",
       "      <td>65</td>\n",
       "      <td>...</td>\n",
       "      <td>31</td>\n",
       "      <td>33</td>\n",
       "      <td>0</td>\n",
       "      <td>https://static.cnusports.com/custompages/mbbal...</td>\n",
       "      <td>1</td>\n",
       "      <td>1</td>\n",
       "      <td>0</td>\n",
       "      <td>1</td>\n",
       "      <td>0</td>\n",
       "      <td>2</td>\n",
       "    </tr>\n",
       "    <tr>\n",
       "      <th>2</th>\n",
       "      <td>2010-2011</td>\n",
       "      <td>2011-02-19</td>\n",
       "      <td>1</td>\n",
       "      <td>Greensboro College 11-14,</td>\n",
       "      <td>Freeman Center; Newport News, Va.</td>\n",
       "      <td>Christopher Newport 55, Greensboro College 52</td>\n",
       "      <td>55</td>\n",
       "      <td>52</td>\n",
       "      <td>16</td>\n",
       "      <td>51</td>\n",
       "      <td>...</td>\n",
       "      <td>17</td>\n",
       "      <td>20</td>\n",
       "      <td>0</td>\n",
       "      <td>https://static.cnusports.com/custompages/mbbal...</td>\n",
       "      <td>1</td>\n",
       "      <td>1</td>\n",
       "      <td>1</td>\n",
       "      <td>0</td>\n",
       "      <td>1</td>\n",
       "      <td>3</td>\n",
       "    </tr>\n",
       "  </tbody>\n",
       "</table>\n",
       "<p>3 rows × 30 columns</p>\n",
       "</div>"
      ]
     },
     "execution_count": 2,
     "metadata": {},
     "output_type": "execute_result"
    }
   ],
   "execution_count": 2
  },
  {
   "metadata": {
    "ExecuteTime": {
     "end_time": "2025-08-20T01:25:37.891814Z",
     "start_time": "2025-08-20T01:25:37.876938Z"
    }
   },
   "cell_type": "code",
   "source": [
    "# Coach rule: predict win if >=3 goals hit\n",
    "df[\"rule3\"] = (df[\"goals_hit\"] >= 3).astype(int)\n",
    "\n",
    "# Offensive rebounding rate (just in case)\n",
    "misses = (df[\"cnu_fga\"] - df[\"cnu_fgm\"]).replace(0, np.nan)\n",
    "df[\"cnu_or_rate\"] = df[\"cnu_orb\"] / misses\n",
    "df.loc[misses.isna(), \"cnu_or_rate\"] = 0.0  # define as 0 if no misses"
   ],
   "id": "4680909ce0528649",
   "outputs": [],
   "execution_count": 3
  },
  {
   "metadata": {
    "ExecuteTime": {
     "end_time": "2025-08-20T01:25:37.926017Z",
     "start_time": "2025-08-20T01:25:37.905762Z"
    }
   },
   "cell_type": "code",
   "source": [
    "wr = df.groupby(\"goals_hit\")[\"win\"].agg([\"mean\",\"size\"]).reindex([0,1,2,3,4])\n",
    "wr.rename(columns={\"mean\":\"win_rate\",\"size\":\"N\"}, inplace=True)\n",
    "wr"
   ],
   "id": "847d89a124218241",
   "outputs": [
    {
     "data": {
      "text/plain": [
       "           win_rate    N\n",
       "goals_hit               \n",
       "0          0.400000   25\n",
       "1          0.602941   68\n",
       "2          0.820513  156\n",
       "3          0.956522  115\n",
       "4          0.941176   51"
      ],
      "text/html": [
       "<div>\n",
       "<style scoped>\n",
       "    .dataframe tbody tr th:only-of-type {\n",
       "        vertical-align: middle;\n",
       "    }\n",
       "\n",
       "    .dataframe tbody tr th {\n",
       "        vertical-align: top;\n",
       "    }\n",
       "\n",
       "    .dataframe thead th {\n",
       "        text-align: right;\n",
       "    }\n",
       "</style>\n",
       "<table border=\"1\" class=\"dataframe\">\n",
       "  <thead>\n",
       "    <tr style=\"text-align: right;\">\n",
       "      <th></th>\n",
       "      <th>win_rate</th>\n",
       "      <th>N</th>\n",
       "    </tr>\n",
       "    <tr>\n",
       "      <th>goals_hit</th>\n",
       "      <th></th>\n",
       "      <th></th>\n",
       "    </tr>\n",
       "  </thead>\n",
       "  <tbody>\n",
       "    <tr>\n",
       "      <th>0</th>\n",
       "      <td>0.400000</td>\n",
       "      <td>25</td>\n",
       "    </tr>\n",
       "    <tr>\n",
       "      <th>1</th>\n",
       "      <td>0.602941</td>\n",
       "      <td>68</td>\n",
       "    </tr>\n",
       "    <tr>\n",
       "      <th>2</th>\n",
       "      <td>0.820513</td>\n",
       "      <td>156</td>\n",
       "    </tr>\n",
       "    <tr>\n",
       "      <th>3</th>\n",
       "      <td>0.956522</td>\n",
       "      <td>115</td>\n",
       "    </tr>\n",
       "    <tr>\n",
       "      <th>4</th>\n",
       "      <td>0.941176</td>\n",
       "      <td>51</td>\n",
       "    </tr>\n",
       "  </tbody>\n",
       "</table>\n",
       "</div>"
      ]
     },
     "execution_count": 4,
     "metadata": {},
     "output_type": "execute_result"
    }
   ],
   "execution_count": 4
  },
  {
   "metadata": {
    "ExecuteTime": {
     "end_time": "2025-08-20T01:39:31.665544Z",
     "start_time": "2025-08-20T01:39:29.778002Z"
    }
   },
   "cell_type": "code",
   "source": [
    "fig = px.bar(\n",
    "    wr.reset_index(), x=\"goals_hit\", y=\"win_rate\", text=\"N\",\n",
    "    labels={\"goals_hit\":\"Goals hit\", \"win_rate\":\"Win %\"},\n",
    "    color=\"goals_hit\", color_discrete_sequence=[\"#A7A8AA\",\"#8A8D8F\",\"#d1d5db\",\"#0033A0\",\"#001e5e\"]\n",
    ")\n",
    "fig.update_traces(textposition=\"outside\")\n",
    "fig.update_layout(template=\"simple_white\", yaxis_tickformat=\".0%\", title=\"Win% by # of goals hit\")\n",
    "fig.write_html(FIGS/\"win_rate_by_goals.html\", include_plotlyjs=\"cdn\")\n",
    "fig.show()"
   ],
   "id": "7b53316f12cf18a5",
   "outputs": [
    {
     "data": {
      "application/vnd.plotly.v1+json": {
       "data": [
        {
         "hovertemplate": "Goals hit=%{marker.color}<br>Win %=%{y}<br>N=%{text}<extra></extra>",
         "legendgroup": "",
         "marker": {
          "color": {
           "dtype": "i1",
           "bdata": "AAECAwQ="
          },
          "coloraxis": "coloraxis",
          "pattern": {
           "shape": ""
          }
         },
         "name": "",
         "orientation": "v",
         "showlegend": false,
         "text": {
          "dtype": "f8",
          "bdata": "AAAAAAAAOUAAAAAAAABRQAAAAAAAgGNAAAAAAADAXEAAAAAAAIBJQA=="
         },
         "textposition": "outside",
         "x": {
          "dtype": "i1",
          "bdata": "AAECAwQ="
         },
         "xaxis": "x",
         "y": {
          "dtype": "f8",
          "bdata": "mpmZmZmZ2T9LS0tLS0vjPxqkQRqkQeo/6k1vetOb7j8eHh4eHh7uPw=="
         },
         "yaxis": "y",
         "type": "bar"
        }
       ],
       "layout": {
        "template": {
         "data": {
          "barpolar": [
           {
            "marker": {
             "line": {
              "color": "white",
              "width": 0.5
             },
             "pattern": {
              "fillmode": "overlay",
              "size": 10,
              "solidity": 0.2
             }
            },
            "type": "barpolar"
           }
          ],
          "bar": [
           {
            "error_x": {
             "color": "rgb(36,36,36)"
            },
            "error_y": {
             "color": "rgb(36,36,36)"
            },
            "marker": {
             "line": {
              "color": "white",
              "width": 0.5
             },
             "pattern": {
              "fillmode": "overlay",
              "size": 10,
              "solidity": 0.2
             }
            },
            "type": "bar"
           }
          ],
          "carpet": [
           {
            "aaxis": {
             "endlinecolor": "rgb(36,36,36)",
             "gridcolor": "white",
             "linecolor": "white",
             "minorgridcolor": "white",
             "startlinecolor": "rgb(36,36,36)"
            },
            "baxis": {
             "endlinecolor": "rgb(36,36,36)",
             "gridcolor": "white",
             "linecolor": "white",
             "minorgridcolor": "white",
             "startlinecolor": "rgb(36,36,36)"
            },
            "type": "carpet"
           }
          ],
          "choropleth": [
           {
            "colorbar": {
             "outlinewidth": 1,
             "tickcolor": "rgb(36,36,36)",
             "ticks": "outside"
            },
            "type": "choropleth"
           }
          ],
          "contourcarpet": [
           {
            "colorbar": {
             "outlinewidth": 1,
             "tickcolor": "rgb(36,36,36)",
             "ticks": "outside"
            },
            "type": "contourcarpet"
           }
          ],
          "contour": [
           {
            "colorbar": {
             "outlinewidth": 1,
             "tickcolor": "rgb(36,36,36)",
             "ticks": "outside"
            },
            "colorscale": [
             [
              0.0,
              "#440154"
             ],
             [
              0.1111111111111111,
              "#482878"
             ],
             [
              0.2222222222222222,
              "#3e4989"
             ],
             [
              0.3333333333333333,
              "#31688e"
             ],
             [
              0.4444444444444444,
              "#26828e"
             ],
             [
              0.5555555555555556,
              "#1f9e89"
             ],
             [
              0.6666666666666666,
              "#35b779"
             ],
             [
              0.7777777777777778,
              "#6ece58"
             ],
             [
              0.8888888888888888,
              "#b5de2b"
             ],
             [
              1.0,
              "#fde725"
             ]
            ],
            "type": "contour"
           }
          ],
          "heatmap": [
           {
            "colorbar": {
             "outlinewidth": 1,
             "tickcolor": "rgb(36,36,36)",
             "ticks": "outside"
            },
            "colorscale": [
             [
              0.0,
              "#440154"
             ],
             [
              0.1111111111111111,
              "#482878"
             ],
             [
              0.2222222222222222,
              "#3e4989"
             ],
             [
              0.3333333333333333,
              "#31688e"
             ],
             [
              0.4444444444444444,
              "#26828e"
             ],
             [
              0.5555555555555556,
              "#1f9e89"
             ],
             [
              0.6666666666666666,
              "#35b779"
             ],
             [
              0.7777777777777778,
              "#6ece58"
             ],
             [
              0.8888888888888888,
              "#b5de2b"
             ],
             [
              1.0,
              "#fde725"
             ]
            ],
            "type": "heatmap"
           }
          ],
          "histogram2dcontour": [
           {
            "colorbar": {
             "outlinewidth": 1,
             "tickcolor": "rgb(36,36,36)",
             "ticks": "outside"
            },
            "colorscale": [
             [
              0.0,
              "#440154"
             ],
             [
              0.1111111111111111,
              "#482878"
             ],
             [
              0.2222222222222222,
              "#3e4989"
             ],
             [
              0.3333333333333333,
              "#31688e"
             ],
             [
              0.4444444444444444,
              "#26828e"
             ],
             [
              0.5555555555555556,
              "#1f9e89"
             ],
             [
              0.6666666666666666,
              "#35b779"
             ],
             [
              0.7777777777777778,
              "#6ece58"
             ],
             [
              0.8888888888888888,
              "#b5de2b"
             ],
             [
              1.0,
              "#fde725"
             ]
            ],
            "type": "histogram2dcontour"
           }
          ],
          "histogram2d": [
           {
            "colorbar": {
             "outlinewidth": 1,
             "tickcolor": "rgb(36,36,36)",
             "ticks": "outside"
            },
            "colorscale": [
             [
              0.0,
              "#440154"
             ],
             [
              0.1111111111111111,
              "#482878"
             ],
             [
              0.2222222222222222,
              "#3e4989"
             ],
             [
              0.3333333333333333,
              "#31688e"
             ],
             [
              0.4444444444444444,
              "#26828e"
             ],
             [
              0.5555555555555556,
              "#1f9e89"
             ],
             [
              0.6666666666666666,
              "#35b779"
             ],
             [
              0.7777777777777778,
              "#6ece58"
             ],
             [
              0.8888888888888888,
              "#b5de2b"
             ],
             [
              1.0,
              "#fde725"
             ]
            ],
            "type": "histogram2d"
           }
          ],
          "histogram": [
           {
            "marker": {
             "line": {
              "color": "white",
              "width": 0.6
             }
            },
            "type": "histogram"
           }
          ],
          "mesh3d": [
           {
            "colorbar": {
             "outlinewidth": 1,
             "tickcolor": "rgb(36,36,36)",
             "ticks": "outside"
            },
            "type": "mesh3d"
           }
          ],
          "parcoords": [
           {
            "line": {
             "colorbar": {
              "outlinewidth": 1,
              "tickcolor": "rgb(36,36,36)",
              "ticks": "outside"
             }
            },
            "type": "parcoords"
           }
          ],
          "pie": [
           {
            "automargin": true,
            "type": "pie"
           }
          ],
          "scatter3d": [
           {
            "line": {
             "colorbar": {
              "outlinewidth": 1,
              "tickcolor": "rgb(36,36,36)",
              "ticks": "outside"
             }
            },
            "marker": {
             "colorbar": {
              "outlinewidth": 1,
              "tickcolor": "rgb(36,36,36)",
              "ticks": "outside"
             }
            },
            "type": "scatter3d"
           }
          ],
          "scattercarpet": [
           {
            "marker": {
             "colorbar": {
              "outlinewidth": 1,
              "tickcolor": "rgb(36,36,36)",
              "ticks": "outside"
             }
            },
            "type": "scattercarpet"
           }
          ],
          "scattergeo": [
           {
            "marker": {
             "colorbar": {
              "outlinewidth": 1,
              "tickcolor": "rgb(36,36,36)",
              "ticks": "outside"
             }
            },
            "type": "scattergeo"
           }
          ],
          "scattergl": [
           {
            "marker": {
             "colorbar": {
              "outlinewidth": 1,
              "tickcolor": "rgb(36,36,36)",
              "ticks": "outside"
             }
            },
            "type": "scattergl"
           }
          ],
          "scattermapbox": [
           {
            "marker": {
             "colorbar": {
              "outlinewidth": 1,
              "tickcolor": "rgb(36,36,36)",
              "ticks": "outside"
             }
            },
            "type": "scattermapbox"
           }
          ],
          "scattermap": [
           {
            "marker": {
             "colorbar": {
              "outlinewidth": 1,
              "tickcolor": "rgb(36,36,36)",
              "ticks": "outside"
             }
            },
            "type": "scattermap"
           }
          ],
          "scatterpolargl": [
           {
            "marker": {
             "colorbar": {
              "outlinewidth": 1,
              "tickcolor": "rgb(36,36,36)",
              "ticks": "outside"
             }
            },
            "type": "scatterpolargl"
           }
          ],
          "scatterpolar": [
           {
            "marker": {
             "colorbar": {
              "outlinewidth": 1,
              "tickcolor": "rgb(36,36,36)",
              "ticks": "outside"
             }
            },
            "type": "scatterpolar"
           }
          ],
          "scatter": [
           {
            "fillpattern": {
             "fillmode": "overlay",
             "size": 10,
             "solidity": 0.2
            },
            "type": "scatter"
           }
          ],
          "scatterternary": [
           {
            "marker": {
             "colorbar": {
              "outlinewidth": 1,
              "tickcolor": "rgb(36,36,36)",
              "ticks": "outside"
             }
            },
            "type": "scatterternary"
           }
          ],
          "surface": [
           {
            "colorbar": {
             "outlinewidth": 1,
             "tickcolor": "rgb(36,36,36)",
             "ticks": "outside"
            },
            "colorscale": [
             [
              0.0,
              "#440154"
             ],
             [
              0.1111111111111111,
              "#482878"
             ],
             [
              0.2222222222222222,
              "#3e4989"
             ],
             [
              0.3333333333333333,
              "#31688e"
             ],
             [
              0.4444444444444444,
              "#26828e"
             ],
             [
              0.5555555555555556,
              "#1f9e89"
             ],
             [
              0.6666666666666666,
              "#35b779"
             ],
             [
              0.7777777777777778,
              "#6ece58"
             ],
             [
              0.8888888888888888,
              "#b5de2b"
             ],
             [
              1.0,
              "#fde725"
             ]
            ],
            "type": "surface"
           }
          ],
          "table": [
           {
            "cells": {
             "fill": {
              "color": "rgb(237,237,237)"
             },
             "line": {
              "color": "white"
             }
            },
            "header": {
             "fill": {
              "color": "rgb(217,217,217)"
             },
             "line": {
              "color": "white"
             }
            },
            "type": "table"
           }
          ]
         },
         "layout": {
          "annotationdefaults": {
           "arrowhead": 0,
           "arrowwidth": 1
          },
          "autotypenumbers": "strict",
          "coloraxis": {
           "colorbar": {
            "outlinewidth": 1,
            "tickcolor": "rgb(36,36,36)",
            "ticks": "outside"
           }
          },
          "colorscale": {
           "diverging": [
            [
             0.0,
             "rgb(103,0,31)"
            ],
            [
             0.1,
             "rgb(178,24,43)"
            ],
            [
             0.2,
             "rgb(214,96,77)"
            ],
            [
             0.3,
             "rgb(244,165,130)"
            ],
            [
             0.4,
             "rgb(253,219,199)"
            ],
            [
             0.5,
             "rgb(247,247,247)"
            ],
            [
             0.6,
             "rgb(209,229,240)"
            ],
            [
             0.7,
             "rgb(146,197,222)"
            ],
            [
             0.8,
             "rgb(67,147,195)"
            ],
            [
             0.9,
             "rgb(33,102,172)"
            ],
            [
             1.0,
             "rgb(5,48,97)"
            ]
           ],
           "sequential": [
            [
             0.0,
             "#440154"
            ],
            [
             0.1111111111111111,
             "#482878"
            ],
            [
             0.2222222222222222,
             "#3e4989"
            ],
            [
             0.3333333333333333,
             "#31688e"
            ],
            [
             0.4444444444444444,
             "#26828e"
            ],
            [
             0.5555555555555556,
             "#1f9e89"
            ],
            [
             0.6666666666666666,
             "#35b779"
            ],
            [
             0.7777777777777778,
             "#6ece58"
            ],
            [
             0.8888888888888888,
             "#b5de2b"
            ],
            [
             1.0,
             "#fde725"
            ]
           ],
           "sequentialminus": [
            [
             0.0,
             "#440154"
            ],
            [
             0.1111111111111111,
             "#482878"
            ],
            [
             0.2222222222222222,
             "#3e4989"
            ],
            [
             0.3333333333333333,
             "#31688e"
            ],
            [
             0.4444444444444444,
             "#26828e"
            ],
            [
             0.5555555555555556,
             "#1f9e89"
            ],
            [
             0.6666666666666666,
             "#35b779"
            ],
            [
             0.7777777777777778,
             "#6ece58"
            ],
            [
             0.8888888888888888,
             "#b5de2b"
            ],
            [
             1.0,
             "#fde725"
            ]
           ]
          },
          "colorway": [
           "#1F77B4",
           "#FF7F0E",
           "#2CA02C",
           "#D62728",
           "#9467BD",
           "#8C564B",
           "#E377C2",
           "#7F7F7F",
           "#BCBD22",
           "#17BECF"
          ],
          "font": {
           "color": "rgb(36,36,36)"
          },
          "geo": {
           "bgcolor": "white",
           "lakecolor": "white",
           "landcolor": "white",
           "showlakes": true,
           "showland": true,
           "subunitcolor": "white"
          },
          "hoverlabel": {
           "align": "left"
          },
          "hovermode": "closest",
          "mapbox": {
           "style": "light"
          },
          "paper_bgcolor": "white",
          "plot_bgcolor": "white",
          "polar": {
           "angularaxis": {
            "gridcolor": "rgb(232,232,232)",
            "linecolor": "rgb(36,36,36)",
            "showgrid": false,
            "showline": true,
            "ticks": "outside"
           },
           "bgcolor": "white",
           "radialaxis": {
            "gridcolor": "rgb(232,232,232)",
            "linecolor": "rgb(36,36,36)",
            "showgrid": false,
            "showline": true,
            "ticks": "outside"
           }
          },
          "scene": {
           "xaxis": {
            "backgroundcolor": "white",
            "gridcolor": "rgb(232,232,232)",
            "gridwidth": 2,
            "linecolor": "rgb(36,36,36)",
            "showbackground": true,
            "showgrid": false,
            "showline": true,
            "ticks": "outside",
            "zeroline": false,
            "zerolinecolor": "rgb(36,36,36)"
           },
           "yaxis": {
            "backgroundcolor": "white",
            "gridcolor": "rgb(232,232,232)",
            "gridwidth": 2,
            "linecolor": "rgb(36,36,36)",
            "showbackground": true,
            "showgrid": false,
            "showline": true,
            "ticks": "outside",
            "zeroline": false,
            "zerolinecolor": "rgb(36,36,36)"
           },
           "zaxis": {
            "backgroundcolor": "white",
            "gridcolor": "rgb(232,232,232)",
            "gridwidth": 2,
            "linecolor": "rgb(36,36,36)",
            "showbackground": true,
            "showgrid": false,
            "showline": true,
            "ticks": "outside",
            "zeroline": false,
            "zerolinecolor": "rgb(36,36,36)"
           }
          },
          "shapedefaults": {
           "fillcolor": "black",
           "line": {
            "width": 0
           },
           "opacity": 0.3
          },
          "ternary": {
           "aaxis": {
            "gridcolor": "rgb(232,232,232)",
            "linecolor": "rgb(36,36,36)",
            "showgrid": false,
            "showline": true,
            "ticks": "outside"
           },
           "baxis": {
            "gridcolor": "rgb(232,232,232)",
            "linecolor": "rgb(36,36,36)",
            "showgrid": false,
            "showline": true,
            "ticks": "outside"
           },
           "bgcolor": "white",
           "caxis": {
            "gridcolor": "rgb(232,232,232)",
            "linecolor": "rgb(36,36,36)",
            "showgrid": false,
            "showline": true,
            "ticks": "outside"
           }
          },
          "title": {
           "x": 0.05
          },
          "xaxis": {
           "automargin": true,
           "gridcolor": "rgb(232,232,232)",
           "linecolor": "rgb(36,36,36)",
           "showgrid": false,
           "showline": true,
           "ticks": "outside",
           "title": {
            "standoff": 15
           },
           "zeroline": false,
           "zerolinecolor": "rgb(36,36,36)"
          },
          "yaxis": {
           "automargin": true,
           "gridcolor": "rgb(232,232,232)",
           "linecolor": "rgb(36,36,36)",
           "showgrid": false,
           "showline": true,
           "ticks": "outside",
           "title": {
            "standoff": 15
           },
           "zeroline": false,
           "zerolinecolor": "rgb(36,36,36)"
          }
         }
        },
        "xaxis": {
         "anchor": "y",
         "domain": [
          0.0,
          1.0
         ],
         "title": {
          "text": "Goals hit"
         }
        },
        "yaxis": {
         "anchor": "x",
         "domain": [
          0.0,
          1.0
         ],
         "title": {
          "text": "Win %"
         },
         "tickformat": ".0%"
        },
        "coloraxis": {
         "colorbar": {
          "title": {
           "text": "Goals hit"
          }
         },
         "colorscale": [
          [
           0.0,
           "#0d0887"
          ],
          [
           0.1111111111111111,
           "#46039f"
          ],
          [
           0.2222222222222222,
           "#7201a8"
          ],
          [
           0.3333333333333333,
           "#9c179e"
          ],
          [
           0.4444444444444444,
           "#bd3786"
          ],
          [
           0.5555555555555556,
           "#d8576b"
          ],
          [
           0.6666666666666666,
           "#ed7953"
          ],
          [
           0.7777777777777778,
           "#fb9f3a"
          ],
          [
           0.8888888888888888,
           "#fdca26"
          ],
          [
           1.0,
           "#f0f921"
          ]
         ]
        },
        "legend": {
         "tracegroupgap": 0
        },
        "margin": {
         "t": 60
        },
        "barmode": "relative",
        "title": {
         "text": "Win% by # of goals hit"
        }
       },
       "config": {
        "plotlyServerURL": "https://plot.ly"
       }
      }
     },
     "metadata": {},
     "output_type": "display_data"
    }
   ],
   "execution_count": 27
  },
  {
   "metadata": {
    "ExecuteTime": {
     "end_time": "2025-08-20T01:28:11.521623Z",
     "start_time": "2025-08-20T01:28:11.496586Z"
    }
   },
   "cell_type": "code",
   "source": [
    "def win_rate(df_, mask):\n",
    "    sub = df_.loc[mask]\n",
    "    return float(sub[\"win\"].mean()) if len(sub) else np.nan\n",
    "\n",
    "goals = {\n",
    "    \"Outrebound (TRB)\": df[\"goal_reb\"]==1,\n",
    "    \"Fewer TOs\": df[\"goal_to\"]==1,\n",
    "    \"40% OR%\": df[\"goal_orb\"]==1,\n",
    "    \"Opp < 30 at half\": df[\"goal_def30\"]==1,\n",
    "    \"Rule (>=3/4)\": df[\"rule3\"]==1,\n",
    "}\n",
    "rows = []\n",
    "for name, m in goals.items():\n",
    "    yes = win_rate(df, m)\n",
    "    no  = win_rate(df, ~m)\n",
    "    rows.append({\"metric\":name, \"win%_yes\":yes, \"win%_no\":no, \"lift_pp\": (yes-no)*100})\n",
    "pd.DataFrame(rows).sort_values(\"lift_pp\", ascending=False)"
   ],
   "id": "42de95c1887fad60",
   "outputs": [
    {
     "data": {
      "text/plain": [
       "             metric  win%_yes   win%_no    lift_pp\n",
       "0  Outrebound (TRB)  0.877023  0.622642  25.438114\n",
       "4      Rule (>=3/4)  0.951807  0.718876  23.293173\n",
       "1         Fewer TOs  0.888350  0.736842  15.150741\n",
       "3  Opp < 30 at half  0.883721  0.735000  14.872093\n",
       "2           40% OR%  0.879397  0.750000  12.939698"
      ],
      "text/html": [
       "<div>\n",
       "<style scoped>\n",
       "    .dataframe tbody tr th:only-of-type {\n",
       "        vertical-align: middle;\n",
       "    }\n",
       "\n",
       "    .dataframe tbody tr th {\n",
       "        vertical-align: top;\n",
       "    }\n",
       "\n",
       "    .dataframe thead th {\n",
       "        text-align: right;\n",
       "    }\n",
       "</style>\n",
       "<table border=\"1\" class=\"dataframe\">\n",
       "  <thead>\n",
       "    <tr style=\"text-align: right;\">\n",
       "      <th></th>\n",
       "      <th>metric</th>\n",
       "      <th>win%_yes</th>\n",
       "      <th>win%_no</th>\n",
       "      <th>lift_pp</th>\n",
       "    </tr>\n",
       "  </thead>\n",
       "  <tbody>\n",
       "    <tr>\n",
       "      <th>0</th>\n",
       "      <td>Outrebound (TRB)</td>\n",
       "      <td>0.877023</td>\n",
       "      <td>0.622642</td>\n",
       "      <td>25.438114</td>\n",
       "    </tr>\n",
       "    <tr>\n",
       "      <th>4</th>\n",
       "      <td>Rule (&gt;=3/4)</td>\n",
       "      <td>0.951807</td>\n",
       "      <td>0.718876</td>\n",
       "      <td>23.293173</td>\n",
       "    </tr>\n",
       "    <tr>\n",
       "      <th>1</th>\n",
       "      <td>Fewer TOs</td>\n",
       "      <td>0.888350</td>\n",
       "      <td>0.736842</td>\n",
       "      <td>15.150741</td>\n",
       "    </tr>\n",
       "    <tr>\n",
       "      <th>3</th>\n",
       "      <td>Opp &lt; 30 at half</td>\n",
       "      <td>0.883721</td>\n",
       "      <td>0.735000</td>\n",
       "      <td>14.872093</td>\n",
       "    </tr>\n",
       "    <tr>\n",
       "      <th>2</th>\n",
       "      <td>40% OR%</td>\n",
       "      <td>0.879397</td>\n",
       "      <td>0.750000</td>\n",
       "      <td>12.939698</td>\n",
       "    </tr>\n",
       "  </tbody>\n",
       "</table>\n",
       "</div>"
      ]
     },
     "execution_count": 9,
     "metadata": {},
     "output_type": "execute_result"
    }
   ],
   "execution_count": 9
  },
  {
   "metadata": {
    "ExecuteTime": {
     "end_time": "2025-08-20T01:31:16.093130Z",
     "start_time": "2025-08-20T01:31:16.081798Z"
    }
   },
   "cell_type": "code",
   "source": [
    "def table2x2_from_binary(y, x):\n",
    "    y, x = pd.Series(y).astype(int), pd.Series(x).astype(int)\n",
    "    a = int(((y==1) & (x==1)).sum())  # win & hit\n",
    "    b = int(((y==0) & (x==1)).sum())  # loss & hit\n",
    "    c = int(((y==1) & (x==0)).sum())  # win & not\n",
    "    d = int(((y==0) & (x==0)).sum())  # loss & not\n",
    "    return np.array([[a, b],\n",
    "                     [c, d]], dtype=int)\n",
    "\n",
    "def test_goal(y, x, label):\n",
    "    tbl = table2x2_from_binary(y, x)\n",
    "    t2 = Table2x2(tbl)\n",
    "    chi2, chi2_p, _, _ = stats.chi2_contingency(tbl, correction=False)\n",
    "    fisher_odds, fisher_p = stats.fisher_exact(tbl, alternative=\"two-sided\")\n",
    "    or_est = t2.oddsratio\n",
    "    or_ci  = t2.oddsratio_confint()\n",
    "    rr_est = t2.riskratio\n",
    "    rr_ci  = t2.riskratio_confint()\n",
    "    win_when_yes = tbl[0,0] / (tbl[0,0] + tbl[0,1]) if (tbl[0,0]+tbl[0,1])>0 else np.nan\n",
    "    win_when_no  = tbl[1,0] / (tbl[1,0] + tbl[1,1]) if (tbl[1,0]+tbl[1,1])>0 else np.nan\n",
    "    return {\n",
    "        \"metric\": label,\n",
    "        \"table\": tbl,\n",
    "        \"chi2_p\": chi2_p,\n",
    "        \"fisher_p\": fisher_p,\n",
    "        \"odds_ratio\": or_est,\n",
    "        \"odds_ratio_ci\": or_ci,\n",
    "        \"risk_ratio\": rr_est,\n",
    "        \"risk_ratio_ci\": rr_ci,\n",
    "        \"win%_yes\": win_when_yes,\n",
    "        \"win%_no\": win_when_no,\n",
    "        \"diff_pp\": 100*(win_when_yes - win_when_no)\n",
    "    }"
   ],
   "id": "5841898b0cffd3ad",
   "outputs": [],
   "execution_count": 11
  },
  {
   "metadata": {
    "ExecuteTime": {
     "end_time": "2025-08-20T01:31:29.580827Z",
     "start_time": "2025-08-20T01:31:29.535007Z"
    }
   },
   "cell_type": "code",
   "source": [
    "tests = []\n",
    "tests.append(test_goal(df[\"win\"], df[\"goal_reb\"], \"Outrebound (TRB)\"))\n",
    "tests.append(test_goal(df[\"win\"], df[\"goal_to\"], \"Fewer TOs\"))\n",
    "tests.append(test_goal(df[\"win\"], df[\"goal_orb\"], \"40% OR%\"))\n",
    "tests.append(test_goal(df[\"win\"], df[\"goal_def30\"], \"Opp < 30 at half\"))\n",
    "tests.append(test_goal(df[\"win\"], df[\"rule3\"], \"Rule (>=3/4)\"))\n",
    "\n",
    "pd.DataFrame({\n",
    "    \"metric\": [t[\"metric\"] for t in tests],\n",
    "    \"win% yes\": [t[\"win%_yes\"] for t in tests],\n",
    "    \"win% no\": [t[\"win%_no\"] for t in tests],\n",
    "    \"diff (pp)\": [t[\"diff_pp\"] for t in tests],\n",
    "    \"Fisher p\": [t[\"fisher_p\"] for t in tests],\n",
    "    \"Odds Ratio\": [t[\"odds_ratio\"] for t in tests],\n",
    "    \"OR 95% CI\": [t[\"odds_ratio_ci\"] for t in tests],\n",
    "    \"Risk Ratio\": [t[\"risk_ratio\"] for t in tests],\n",
    "    \"RR 95% CI\": [t[\"risk_ratio_ci\"] for t in tests],\n",
    "}).sort_values(\"diff (pp)\", ascending=False)"
   ],
   "id": "b38bbe919614592f",
   "outputs": [
    {
     "data": {
      "text/plain": [
       "             metric  win% yes   win% no  diff (pp)      Fisher p  Odds Ratio  \\\n",
       "0  Outrebound (TRB)  0.877023  0.622642  25.438114  4.292334e-08    4.322169   \n",
       "4      Rule (>=3/4)  0.951807  0.718876  23.293173  2.644874e-10    7.723464   \n",
       "1         Fewer TOs  0.888350  0.736842  15.150741  8.588483e-05    2.841615   \n",
       "3  Opp < 30 at half  0.883721  0.735000  14.872093  1.404606e-04    2.740136   \n",
       "2           40% OR%  0.879397  0.750000  12.939698  9.919109e-04    2.430556   \n",
       "\n",
       "                                 OR 95% CI  Risk Ratio  \\\n",
       "0   (2.571828647125411, 7.263759735919341)    1.408552   \n",
       "4  (3.604338454464015, 16.550024943650378)    1.324022   \n",
       "1   (1.669597138968421, 4.836361473235767)    1.205617   \n",
       "3  (1.6258040796617843, 4.618235180160249)    1.202341   \n",
       "2  (1.4361160848874883, 4.113595252367647)    1.172529   \n",
       "\n",
       "                                  RR 95% CI  \n",
       "0  (1.2075472535011587, 1.6430143171099447)  \n",
       "4  (1.2162751850491405, 1.4413145933030698)  \n",
       "1  (1.0970327672369005, 1.3249493290739687)  \n",
       "3  (1.0919429806212473, 1.3239014049653235)  \n",
       "2  (1.0688239338638656, 1.2862969726175344)  "
      ],
      "text/html": [
       "<div>\n",
       "<style scoped>\n",
       "    .dataframe tbody tr th:only-of-type {\n",
       "        vertical-align: middle;\n",
       "    }\n",
       "\n",
       "    .dataframe tbody tr th {\n",
       "        vertical-align: top;\n",
       "    }\n",
       "\n",
       "    .dataframe thead th {\n",
       "        text-align: right;\n",
       "    }\n",
       "</style>\n",
       "<table border=\"1\" class=\"dataframe\">\n",
       "  <thead>\n",
       "    <tr style=\"text-align: right;\">\n",
       "      <th></th>\n",
       "      <th>metric</th>\n",
       "      <th>win% yes</th>\n",
       "      <th>win% no</th>\n",
       "      <th>diff (pp)</th>\n",
       "      <th>Fisher p</th>\n",
       "      <th>Odds Ratio</th>\n",
       "      <th>OR 95% CI</th>\n",
       "      <th>Risk Ratio</th>\n",
       "      <th>RR 95% CI</th>\n",
       "    </tr>\n",
       "  </thead>\n",
       "  <tbody>\n",
       "    <tr>\n",
       "      <th>0</th>\n",
       "      <td>Outrebound (TRB)</td>\n",
       "      <td>0.877023</td>\n",
       "      <td>0.622642</td>\n",
       "      <td>25.438114</td>\n",
       "      <td>4.292334e-08</td>\n",
       "      <td>4.322169</td>\n",
       "      <td>(2.571828647125411, 7.263759735919341)</td>\n",
       "      <td>1.408552</td>\n",
       "      <td>(1.2075472535011587, 1.6430143171099447)</td>\n",
       "    </tr>\n",
       "    <tr>\n",
       "      <th>4</th>\n",
       "      <td>Rule (&gt;=3/4)</td>\n",
       "      <td>0.951807</td>\n",
       "      <td>0.718876</td>\n",
       "      <td>23.293173</td>\n",
       "      <td>2.644874e-10</td>\n",
       "      <td>7.723464</td>\n",
       "      <td>(3.604338454464015, 16.550024943650378)</td>\n",
       "      <td>1.324022</td>\n",
       "      <td>(1.2162751850491405, 1.4413145933030698)</td>\n",
       "    </tr>\n",
       "    <tr>\n",
       "      <th>1</th>\n",
       "      <td>Fewer TOs</td>\n",
       "      <td>0.888350</td>\n",
       "      <td>0.736842</td>\n",
       "      <td>15.150741</td>\n",
       "      <td>8.588483e-05</td>\n",
       "      <td>2.841615</td>\n",
       "      <td>(1.669597138968421, 4.836361473235767)</td>\n",
       "      <td>1.205617</td>\n",
       "      <td>(1.0970327672369005, 1.3249493290739687)</td>\n",
       "    </tr>\n",
       "    <tr>\n",
       "      <th>3</th>\n",
       "      <td>Opp &lt; 30 at half</td>\n",
       "      <td>0.883721</td>\n",
       "      <td>0.735000</td>\n",
       "      <td>14.872093</td>\n",
       "      <td>1.404606e-04</td>\n",
       "      <td>2.740136</td>\n",
       "      <td>(1.6258040796617843, 4.618235180160249)</td>\n",
       "      <td>1.202341</td>\n",
       "      <td>(1.0919429806212473, 1.3239014049653235)</td>\n",
       "    </tr>\n",
       "    <tr>\n",
       "      <th>2</th>\n",
       "      <td>40% OR%</td>\n",
       "      <td>0.879397</td>\n",
       "      <td>0.750000</td>\n",
       "      <td>12.939698</td>\n",
       "      <td>9.919109e-04</td>\n",
       "      <td>2.430556</td>\n",
       "      <td>(1.4361160848874883, 4.113595252367647)</td>\n",
       "      <td>1.172529</td>\n",
       "      <td>(1.0688239338638656, 1.2862969726175344)</td>\n",
       "    </tr>\n",
       "  </tbody>\n",
       "</table>\n",
       "</div>"
      ]
     },
     "execution_count": 12,
     "metadata": {},
     "output_type": "execute_result"
    }
   ],
   "execution_count": 12
  },
  {
   "metadata": {
    "ExecuteTime": {
     "end_time": "2025-08-20T01:31:56.191332Z",
     "start_time": "2025-08-20T01:31:56.141566Z"
    }
   },
   "cell_type": "code",
   "source": [
    "model_cols = [\"win\",\"goal_reb\",\"goal_to\",\"goal_orb\",\"goal_def30\"]\n",
    "logit_df = df[model_cols].dropna().copy()\n",
    "\n",
    "model = smf.logit(\"win ~ goal_reb + goal_to + goal_orb + goal_def30\", data=logit_df).fit(disp=False)\n",
    "print(model.summary())\n",
    "\n",
    "params = model.params\n",
    "conf   = model.conf_int()\n",
    "or_df = pd.DataFrame({\n",
    "    \"feature\": params.index,\n",
    "    \"odds_ratio\": np.exp(params.values),\n",
    "    \"ci_low\": np.exp(conf[0].values),\n",
    "    \"ci_high\": np.exp(conf[1].values),\n",
    "    \"p_value\": model.pvalues.values\n",
    "})\n",
    "or_df"
   ],
   "id": "8f13de221fc374a6",
   "outputs": [
    {
     "name": "stdout",
     "output_type": "stream",
     "text": [
      "                           Logit Regression Results                           \n",
      "==============================================================================\n",
      "Dep. Variable:                    win   No. Observations:                  415\n",
      "Model:                          Logit   Df Residuals:                      410\n",
      "Method:                           MLE   Df Model:                            4\n",
      "Date:                Tue, 19 Aug 2025   Pseudo R-squ.:                  0.1691\n",
      "Time:                        21:31:56   Log-Likelihood:                -166.64\n",
      "converged:                       True   LL-Null:                       -200.54\n",
      "Covariance Type:            nonrobust   LLR p-value:                 6.554e-14\n",
      "==============================================================================\n",
      "                 coef    std err          z      P>|z|      [0.025      0.975]\n",
      "------------------------------------------------------------------------------\n",
      "Intercept     -0.7250      0.301     -2.410      0.016      -1.315      -0.135\n",
      "goal_reb       1.5501      0.327      4.743      0.000       0.910       2.191\n",
      "goal_to        1.4363      0.310      4.637      0.000       0.829       2.043\n",
      "goal_orb       0.4597      0.316      1.453      0.146      -0.160       1.080\n",
      "goal_def30     0.8703      0.286      3.041      0.002       0.309       1.431\n",
      "==============================================================================\n"
     ]
    },
    {
     "data": {
      "text/plain": [
       "      feature  odds_ratio    ci_low   ci_high   p_value\n",
       "0   Intercept    0.484315  0.268577  0.873348  0.015947\n",
       "1    goal_reb    4.711952  2.483337  8.940587  0.000002\n",
       "2     goal_to    4.205141  2.291586  7.716580  0.000004\n",
       "3    goal_orb    1.583576  0.851902  2.943662  0.146156\n",
       "4  goal_def30    2.387706  1.362479  4.184387  0.002362"
      ],
      "text/html": [
       "<div>\n",
       "<style scoped>\n",
       "    .dataframe tbody tr th:only-of-type {\n",
       "        vertical-align: middle;\n",
       "    }\n",
       "\n",
       "    .dataframe tbody tr th {\n",
       "        vertical-align: top;\n",
       "    }\n",
       "\n",
       "    .dataframe thead th {\n",
       "        text-align: right;\n",
       "    }\n",
       "</style>\n",
       "<table border=\"1\" class=\"dataframe\">\n",
       "  <thead>\n",
       "    <tr style=\"text-align: right;\">\n",
       "      <th></th>\n",
       "      <th>feature</th>\n",
       "      <th>odds_ratio</th>\n",
       "      <th>ci_low</th>\n",
       "      <th>ci_high</th>\n",
       "      <th>p_value</th>\n",
       "    </tr>\n",
       "  </thead>\n",
       "  <tbody>\n",
       "    <tr>\n",
       "      <th>0</th>\n",
       "      <td>Intercept</td>\n",
       "      <td>0.484315</td>\n",
       "      <td>0.268577</td>\n",
       "      <td>0.873348</td>\n",
       "      <td>0.015947</td>\n",
       "    </tr>\n",
       "    <tr>\n",
       "      <th>1</th>\n",
       "      <td>goal_reb</td>\n",
       "      <td>4.711952</td>\n",
       "      <td>2.483337</td>\n",
       "      <td>8.940587</td>\n",
       "      <td>0.000002</td>\n",
       "    </tr>\n",
       "    <tr>\n",
       "      <th>2</th>\n",
       "      <td>goal_to</td>\n",
       "      <td>4.205141</td>\n",
       "      <td>2.291586</td>\n",
       "      <td>7.716580</td>\n",
       "      <td>0.000004</td>\n",
       "    </tr>\n",
       "    <tr>\n",
       "      <th>3</th>\n",
       "      <td>goal_orb</td>\n",
       "      <td>1.583576</td>\n",
       "      <td>0.851902</td>\n",
       "      <td>2.943662</td>\n",
       "      <td>0.146156</td>\n",
       "    </tr>\n",
       "    <tr>\n",
       "      <th>4</th>\n",
       "      <td>goal_def30</td>\n",
       "      <td>2.387706</td>\n",
       "      <td>1.362479</td>\n",
       "      <td>4.184387</td>\n",
       "      <td>0.002362</td>\n",
       "    </tr>\n",
       "  </tbody>\n",
       "</table>\n",
       "</div>"
      ]
     },
     "execution_count": 13,
     "metadata": {},
     "output_type": "execute_result"
    }
   ],
   "execution_count": 13
  },
  {
   "metadata": {
    "ExecuteTime": {
     "end_time": "2025-08-20T01:32:33.374411Z",
     "start_time": "2025-08-20T01:32:33.352080Z"
    }
   },
   "cell_type": "code",
   "source": [
    "def season_start_int(s):\n",
    "    try:\n",
    "        return int(str(s).split(\"-\")[0])\n",
    "    except:\n",
    "        return np.nan\n",
    "\n",
    "df[\"season_start\"] = df[\"season\"].apply(season_start_int)\n",
    "\n",
    "use_cols = [\"win\",\"goal_reb\",\"goal_to\",\"goal_orb\",\"goal_def30\",\"season_start\"]\n",
    "work = df[use_cols].dropna().copy()\n",
    "\n",
    "# Hold out the most recent 2 seasons for testing (change if you like)\n",
    "cut = np.sort(work[\"season_start\"].unique())[-2:]\n",
    "train = work[~work[\"season_start\"].isin(cut)].copy()\n",
    "test  = work[ work[\"season_start\"].isin(cut)].copy()\n",
    "\n",
    "X_train = train[[\"goal_reb\",\"goal_to\",\"goal_orb\",\"goal_def30\"]].values\n",
    "y_train = train[\"win\"].values.astype(int)\n",
    "X_test  = test[ [\"goal_reb\",\"goal_to\",\"goal_orb\",\"goal_def30\"]].values\n",
    "y_test  = test[\"win\"].values.astype(int)\n",
    "\n",
    "print(\"Train seasons:\", np.unique(train[\"season_start\"]))\n",
    "print(\"Test seasons :\", np.unique(test[\"season_start\"]))"
   ],
   "id": "1bbf43fdf47c9970",
   "outputs": [
    {
     "name": "stdout",
     "output_type": "stream",
     "text": [
      "Train seasons: [2010 2011 2012 2013 2014 2015 2016 2017 2018 2019 2021 2022]\n",
      "Test seasons : [2023 2024]\n"
     ]
    }
   ],
   "execution_count": 14
  },
  {
   "metadata": {
    "ExecuteTime": {
     "end_time": "2025-08-20T01:32:43.109244Z",
     "start_time": "2025-08-20T01:32:43.086343Z"
    }
   },
   "cell_type": "code",
   "source": [
    "clf = LogisticRegression(solver=\"liblinear\", random_state=42)\n",
    "clf.fit(X_train, y_train)\n",
    "\n",
    "proba = clf.predict_proba(X_test)[:,1]\n",
    "pred  = (proba >= 0.5).astype(int)\n",
    "\n",
    "print(\"LogReg — Test @0.5\")\n",
    "print(\"ACC:\", accuracy_score(y_test, pred))\n",
    "print(\"PREC:\", precision_score(y_test, pred, zero_division=0))\n",
    "print(\"REC:\", recall_score(y_test, pred, zero_division=0))\n",
    "print(\"ROC-AUC:\", roc_auc_score(y_test, proba))\n",
    "print(\"\\nConfusion\\n\", confusion_matrix(y_test, pred))"
   ],
   "id": "1b8bf9dd25f970f3",
   "outputs": [
    {
     "name": "stdout",
     "output_type": "stream",
     "text": [
      "LogReg — Test @0.5\n",
      "ACC: 0.7833333333333333\n",
      "PREC: 0.7931034482758621\n",
      "REC: 0.9787234042553191\n",
      "ROC-AUC: 0.7144026186579377\n",
      "\n",
      "Confusion\n",
      " [[ 1 12]\n",
      " [ 1 46]]\n"
     ]
    }
   ],
   "execution_count": 15
  },
  {
   "metadata": {
    "ExecuteTime": {
     "end_time": "2025-08-20T01:32:53.964619Z",
     "start_time": "2025-08-20T01:32:53.948991Z"
    }
   },
   "cell_type": "code",
   "source": [
    "test_idx = test.index\n",
    "rule_pred = (df.loc[test_idx, \"rule3\"] == 1).astype(int).values\n",
    "print(\"Coach Rule — Test\")\n",
    "print(\"ACC:\", accuracy_score(y_test, rule_pred))\n",
    "print(\"PREC:\", precision_score(y_test, rule_pred, zero_division=0))\n",
    "print(\"REC:\", recall_score(y_test, rule_pred, zero_division=0))\n",
    "print(\"Confusion\\n\", confusion_matrix(y_test, rule_pred))"
   ],
   "id": "27410365992bedfa",
   "outputs": [
    {
     "name": "stdout",
     "output_type": "stream",
     "text": [
      "Coach Rule — Test\n",
      "ACC: 0.48333333333333334\n",
      "PREC: 0.9\n",
      "REC: 0.3829787234042553\n",
      "Confusion\n",
      " [[11  2]\n",
      " [29 18]]\n"
     ]
    }
   ],
   "execution_count": 16
  },
  {
   "metadata": {
    "ExecuteTime": {
     "end_time": "2025-08-20T01:33:02.985922Z",
     "start_time": "2025-08-20T01:33:02.945765Z"
    }
   },
   "cell_type": "code",
   "source": [
    "gkf = GroupKFold(n_splits=min(5, work[\"season_start\"].nunique()))\n",
    "X = work[[\"goal_reb\",\"goal_to\",\"goal_orb\",\"goal_def30\"]].values\n",
    "y = work[\"win\"].values.astype(int)\n",
    "groups = work[\"season_start\"].values\n",
    "\n",
    "clf_cv = LogisticRegression(solver=\"liblinear\", random_state=42)\n",
    "auc_scores = cross_val_score(clf_cv, X, y, groups=groups, cv=gkf, scoring=\"roc_auc\")\n",
    "print(\"GroupKFold ROC-AUC (mean ± sd):\", auc_scores.mean(), \"±\", auc_scores.std())"
   ],
   "id": "1907b34719fdd2ae",
   "outputs": [
    {
     "name": "stdout",
     "output_type": "stream",
     "text": [
      "GroupKFold ROC-AUC (mean ± sd): 0.7721825481260443 ± 0.07500054812218927\n"
     ]
    }
   ],
   "execution_count": 17
  },
  {
   "metadata": {
    "ExecuteTime": {
     "end_time": "2025-08-20T01:33:08.082511Z",
     "start_time": "2025-08-20T01:33:08.064954Z"
    }
   },
   "cell_type": "code",
   "source": [
    "prec, rec, thr = precision_recall_curve(y_test, proba)\n",
    "f1s = 2*prec*rec/(prec+rec+1e-9)\n",
    "best_i = np.nanargmax(f1s)\n",
    "best_thr = thr[best_i-1] if best_i>0 else 0.5\n",
    "\n",
    "print(\"Best threshold by F1:\", best_thr)\n",
    "pred_best = (proba >= best_thr).astype(int)\n",
    "print(\"ACC:\", accuracy_score(y_test, pred_best))\n",
    "print(\"PREC:\", precision_score(y_test, pred_best, zero_division=0))\n",
    "print(\"REC:\", recall_score(y_test, pred_best, zero_division=0))\n",
    "print(\"Confusion\\n\", confusion_matrix(y_test, pred_best))"
   ],
   "id": "fe7e0b1d5c605a25",
   "outputs": [
    {
     "name": "stdout",
     "output_type": "stream",
     "text": [
      "Best threshold by F1: 0.5\n",
      "ACC: 0.7833333333333333\n",
      "PREC: 0.7931034482758621\n",
      "REC: 0.9787234042553191\n",
      "Confusion\n",
      " [[ 1 12]\n",
      " [ 1 46]]\n"
     ]
    }
   ],
   "execution_count": 18
  },
  {
   "metadata": {
    "ExecuteTime": {
     "end_time": "2025-08-20T01:33:15.460314Z",
     "start_time": "2025-08-20T01:33:15.429606Z"
    }
   },
   "cell_type": "code",
   "source": [
    "from statsmodels.stats.outliers_influence import variance_inflation_factor\n",
    "\n",
    "X_vif = sm.add_constant(work[[\"goal_reb\",\"goal_to\",\"goal_orb\",\"goal_def30\"]].values)\n",
    "vif = [variance_inflation_factor(X_vif, i) for i in range(X_vif.shape[1])]\n",
    "pd.DataFrame({\"feature\": [\"const\",\"goal_reb\",\"goal_to\",\"goal_orb\",\"goal_def30\"], \"VIF\": vif})"
   ],
   "id": "5c606c20ef449848",
   "outputs": [
    {
     "data": {
      "text/plain": [
       "      feature       VIF\n",
       "0       const  6.110749\n",
       "1    goal_reb  1.226731\n",
       "2     goal_to  1.025383\n",
       "3    goal_orb  1.187528\n",
       "4  goal_def30  1.022122"
      ],
      "text/html": [
       "<div>\n",
       "<style scoped>\n",
       "    .dataframe tbody tr th:only-of-type {\n",
       "        vertical-align: middle;\n",
       "    }\n",
       "\n",
       "    .dataframe tbody tr th {\n",
       "        vertical-align: top;\n",
       "    }\n",
       "\n",
       "    .dataframe thead th {\n",
       "        text-align: right;\n",
       "    }\n",
       "</style>\n",
       "<table border=\"1\" class=\"dataframe\">\n",
       "  <thead>\n",
       "    <tr style=\"text-align: right;\">\n",
       "      <th></th>\n",
       "      <th>feature</th>\n",
       "      <th>VIF</th>\n",
       "    </tr>\n",
       "  </thead>\n",
       "  <tbody>\n",
       "    <tr>\n",
       "      <th>0</th>\n",
       "      <td>const</td>\n",
       "      <td>6.110749</td>\n",
       "    </tr>\n",
       "    <tr>\n",
       "      <th>1</th>\n",
       "      <td>goal_reb</td>\n",
       "      <td>1.226731</td>\n",
       "    </tr>\n",
       "    <tr>\n",
       "      <th>2</th>\n",
       "      <td>goal_to</td>\n",
       "      <td>1.025383</td>\n",
       "    </tr>\n",
       "    <tr>\n",
       "      <th>3</th>\n",
       "      <td>goal_orb</td>\n",
       "      <td>1.187528</td>\n",
       "    </tr>\n",
       "    <tr>\n",
       "      <th>4</th>\n",
       "      <td>goal_def30</td>\n",
       "      <td>1.022122</td>\n",
       "    </tr>\n",
       "  </tbody>\n",
       "</table>\n",
       "</div>"
      ]
     },
     "execution_count": 19,
     "metadata": {},
     "output_type": "execute_result"
    }
   ],
   "execution_count": 19
  },
  {
   "metadata": {
    "ExecuteTime": {
     "end_time": "2025-08-20T01:33:23.960330Z",
     "start_time": "2025-08-20T01:33:23.923289Z"
    }
   },
   "cell_type": "code",
   "source": [
    "results = {\n",
    "    \"logreg_test_acc\": accuracy_score(y_test, pred),\n",
    "    \"logreg_test_prec\": precision_score(y_test, pred, zero_division=0),\n",
    "    \"logreg_test_rec\": recall_score(y_test, pred, zero_division=0),\n",
    "    \"logreg_test_auc\": roc_auc_score(y_test, proba),\n",
    "    \"coach_acc\": accuracy_score(y_test, rule_pred),\n",
    "    \"coach_prec\": precision_score(y_test, rule_pred, zero_division=0),\n",
    "    \"coach_rec\": recall_score(y_test, rule_pred, zero_division=0),\n",
    "    \"cv_auc_mean\": auc_scores.mean(),\n",
    "    \"cv_auc_sd\": auc_scores.std(),\n",
    "    \"best_thr_by_f1\": float(best_thr)\n",
    "}\n",
    "REPORTS.mkdir(exist_ok=True)\n",
    "pd.DataFrame([results]).to_csv(REPORTS/\"phase2_results_summary.csv\", index=False)\n",
    "pd.DataFrame([results])"
   ],
   "id": "63d611748f8cdcfa",
   "outputs": [
    {
     "data": {
      "text/plain": [
       "   logreg_test_acc  logreg_test_prec  logreg_test_rec  logreg_test_auc  \\\n",
       "0         0.783333          0.793103         0.978723         0.714403   \n",
       "\n",
       "   coach_acc  coach_prec  coach_rec  cv_auc_mean  cv_auc_sd  best_thr_by_f1  \n",
       "0   0.483333         0.9   0.382979     0.772183   0.075001             0.5  "
      ],
      "text/html": [
       "<div>\n",
       "<style scoped>\n",
       "    .dataframe tbody tr th:only-of-type {\n",
       "        vertical-align: middle;\n",
       "    }\n",
       "\n",
       "    .dataframe tbody tr th {\n",
       "        vertical-align: top;\n",
       "    }\n",
       "\n",
       "    .dataframe thead th {\n",
       "        text-align: right;\n",
       "    }\n",
       "</style>\n",
       "<table border=\"1\" class=\"dataframe\">\n",
       "  <thead>\n",
       "    <tr style=\"text-align: right;\">\n",
       "      <th></th>\n",
       "      <th>logreg_test_acc</th>\n",
       "      <th>logreg_test_prec</th>\n",
       "      <th>logreg_test_rec</th>\n",
       "      <th>logreg_test_auc</th>\n",
       "      <th>coach_acc</th>\n",
       "      <th>coach_prec</th>\n",
       "      <th>coach_rec</th>\n",
       "      <th>cv_auc_mean</th>\n",
       "      <th>cv_auc_sd</th>\n",
       "      <th>best_thr_by_f1</th>\n",
       "    </tr>\n",
       "  </thead>\n",
       "  <tbody>\n",
       "    <tr>\n",
       "      <th>0</th>\n",
       "      <td>0.783333</td>\n",
       "      <td>0.793103</td>\n",
       "      <td>0.978723</td>\n",
       "      <td>0.714403</td>\n",
       "      <td>0.483333</td>\n",
       "      <td>0.9</td>\n",
       "      <td>0.382979</td>\n",
       "      <td>0.772183</td>\n",
       "      <td>0.075001</td>\n",
       "      <td>0.5</td>\n",
       "    </tr>\n",
       "  </tbody>\n",
       "</table>\n",
       "</div>"
      ]
     },
     "execution_count": 20,
     "metadata": {},
     "output_type": "execute_result"
    }
   ],
   "execution_count": 20
  },
  {
   "metadata": {
    "ExecuteTime": {
     "end_time": "2025-08-20T01:33:33.884337Z",
     "start_time": "2025-08-20T01:33:33.851516Z"
    }
   },
   "cell_type": "code",
   "source": [
    "full = work.copy()\n",
    "clf_all = LogisticRegression(solver=\"liblinear\", random_state=42).fit(\n",
    "    full[[\"goal_reb\",\"goal_to\",\"goal_orb\",\"goal_def30\"]].values,\n",
    "    full[\"win\"].values.astype(int)\n",
    ")\n",
    "df[\"model_prob_win\"] = clf_all.predict_proba(\n",
    "    df[[\"goal_reb\",\"goal_to\",\"goal_orb\",\"goal_def30\"]].fillna(0).values\n",
    ")[:,1]\n",
    "\n",
    "df.to_csv(DATA/\"cnu_games_with_goals_and_model.csv\", index=False)\n",
    "df[[\"date\",\"season\",\"opponent\",\"win\",\"goals_hit\",\"model_prob_win\"]].head(10)"
   ],
   "id": "550629cbf9a76caa",
   "outputs": [
    {
     "data": {
      "text/plain": [
       "        date     season                   opponent  win  goals_hit  \\\n",
       "0 2011-02-25  2010-2011                     Ferrum    0          2   \n",
       "1 2011-02-22  2010-2011                 Shenandoah    1          2   \n",
       "2 2011-02-19  2010-2011  Greensboro College 11-14,    1          3   \n",
       "3 2011-02-18  2010-2011            Methodist 9-15,    1          1   \n",
       "4 2011-02-13  2010-2011  19 Ferrum 21-3, 10-1 USAS    0          3   \n",
       "5 2011-02-12  2010-2011        Averett 2-21 (0-10)    1          2   \n",
       "6 2011-02-06  2010-2011                    Roanoke    1          2   \n",
       "7 2011-02-05  2010-2011        N.C. Wesleyan 15-6,    0          2   \n",
       "8 2011-02-01  2010-2011          11 Randolph-Macon    0          1   \n",
       "9 2011-01-27  2010-2011   Shenandoah Hornets 3-15,    1          3   \n",
       "\n",
       "   model_prob_win  \n",
       "0        0.787381  \n",
       "1        0.787381  \n",
       "2        0.948271  \n",
       "3        0.571399  \n",
       "4        0.891487  \n",
       "5        0.767891  \n",
       "6        0.892046  \n",
       "7        0.839496  \n",
       "8        0.571399  \n",
       "9        0.891487  "
      ],
      "text/html": [
       "<div>\n",
       "<style scoped>\n",
       "    .dataframe tbody tr th:only-of-type {\n",
       "        vertical-align: middle;\n",
       "    }\n",
       "\n",
       "    .dataframe tbody tr th {\n",
       "        vertical-align: top;\n",
       "    }\n",
       "\n",
       "    .dataframe thead th {\n",
       "        text-align: right;\n",
       "    }\n",
       "</style>\n",
       "<table border=\"1\" class=\"dataframe\">\n",
       "  <thead>\n",
       "    <tr style=\"text-align: right;\">\n",
       "      <th></th>\n",
       "      <th>date</th>\n",
       "      <th>season</th>\n",
       "      <th>opponent</th>\n",
       "      <th>win</th>\n",
       "      <th>goals_hit</th>\n",
       "      <th>model_prob_win</th>\n",
       "    </tr>\n",
       "  </thead>\n",
       "  <tbody>\n",
       "    <tr>\n",
       "      <th>0</th>\n",
       "      <td>2011-02-25</td>\n",
       "      <td>2010-2011</td>\n",
       "      <td>Ferrum</td>\n",
       "      <td>0</td>\n",
       "      <td>2</td>\n",
       "      <td>0.787381</td>\n",
       "    </tr>\n",
       "    <tr>\n",
       "      <th>1</th>\n",
       "      <td>2011-02-22</td>\n",
       "      <td>2010-2011</td>\n",
       "      <td>Shenandoah</td>\n",
       "      <td>1</td>\n",
       "      <td>2</td>\n",
       "      <td>0.787381</td>\n",
       "    </tr>\n",
       "    <tr>\n",
       "      <th>2</th>\n",
       "      <td>2011-02-19</td>\n",
       "      <td>2010-2011</td>\n",
       "      <td>Greensboro College 11-14,</td>\n",
       "      <td>1</td>\n",
       "      <td>3</td>\n",
       "      <td>0.948271</td>\n",
       "    </tr>\n",
       "    <tr>\n",
       "      <th>3</th>\n",
       "      <td>2011-02-18</td>\n",
       "      <td>2010-2011</td>\n",
       "      <td>Methodist 9-15,</td>\n",
       "      <td>1</td>\n",
       "      <td>1</td>\n",
       "      <td>0.571399</td>\n",
       "    </tr>\n",
       "    <tr>\n",
       "      <th>4</th>\n",
       "      <td>2011-02-13</td>\n",
       "      <td>2010-2011</td>\n",
       "      <td>19 Ferrum 21-3, 10-1 USAS</td>\n",
       "      <td>0</td>\n",
       "      <td>3</td>\n",
       "      <td>0.891487</td>\n",
       "    </tr>\n",
       "    <tr>\n",
       "      <th>5</th>\n",
       "      <td>2011-02-12</td>\n",
       "      <td>2010-2011</td>\n",
       "      <td>Averett 2-21 (0-10)</td>\n",
       "      <td>1</td>\n",
       "      <td>2</td>\n",
       "      <td>0.767891</td>\n",
       "    </tr>\n",
       "    <tr>\n",
       "      <th>6</th>\n",
       "      <td>2011-02-06</td>\n",
       "      <td>2010-2011</td>\n",
       "      <td>Roanoke</td>\n",
       "      <td>1</td>\n",
       "      <td>2</td>\n",
       "      <td>0.892046</td>\n",
       "    </tr>\n",
       "    <tr>\n",
       "      <th>7</th>\n",
       "      <td>2011-02-05</td>\n",
       "      <td>2010-2011</td>\n",
       "      <td>N.C. Wesleyan 15-6,</td>\n",
       "      <td>0</td>\n",
       "      <td>2</td>\n",
       "      <td>0.839496</td>\n",
       "    </tr>\n",
       "    <tr>\n",
       "      <th>8</th>\n",
       "      <td>2011-02-01</td>\n",
       "      <td>2010-2011</td>\n",
       "      <td>11 Randolph-Macon</td>\n",
       "      <td>0</td>\n",
       "      <td>1</td>\n",
       "      <td>0.571399</td>\n",
       "    </tr>\n",
       "    <tr>\n",
       "      <th>9</th>\n",
       "      <td>2011-01-27</td>\n",
       "      <td>2010-2011</td>\n",
       "      <td>Shenandoah Hornets 3-15,</td>\n",
       "      <td>1</td>\n",
       "      <td>3</td>\n",
       "      <td>0.891487</td>\n",
       "    </tr>\n",
       "  </tbody>\n",
       "</table>\n",
       "</div>"
      ]
     },
     "execution_count": 21,
     "metadata": {},
     "output_type": "execute_result"
    }
   ],
   "execution_count": 21
  },
  {
   "metadata": {},
   "cell_type": "markdown",
   "source": [
    "## Key Takeaways\n",
    "- Coach rule (≥3 of 4) shows high precision but lower recall.\n",
    "- Fisher tests + OR/RR quantify each goal’s association with winning.\n",
    "- Logistic regression using only the 4 goals provides baseline predictive lift vs. the rule on recent seasons.\n",
    "- Season-aware CV (GroupKFold) yields stable ROC-AUC across years.\n",
    "- Next: enrich features (opponent strength, home/away), try tree-based models, add calibration, and extend the dashboard with per-game probabilities and what-if toggles.\n"
   ],
   "id": "56195cb364e516ab"
  },
  {
   "metadata": {},
   "cell_type": "code",
   "outputs": [],
   "execution_count": null,
   "source": "",
   "id": "b7fd40c6a2d1da0d"
  }
 ],
 "metadata": {
  "kernelspec": {
   "name": "python3",
   "language": "python",
   "display_name": "Python 3 (ipykernel)"
  }
 },
 "nbformat": 4,
 "nbformat_minor": 5
}
